{
 "cells": [
  {
   "cell_type": "code",
   "execution_count": 46,
   "id": "5b081923-4c4b-42d0-b150-454037bdb45a",
   "metadata": {
    "tags": []
   },
   "outputs": [],
   "source": [
    "import sagemaker\n",
    "import boto3\n",
    "import urllib\n",
    "import pandas as pd\n",
    "from sagemaker.amazon.amazon_estimator import get_image_uri\n",
    "from sagemaker import image_uris"
   ]
  },
  {
   "cell_type": "code",
   "execution_count": 2,
   "id": "d02b3100-d79a-491b-84ec-aaf0c0eed558",
   "metadata": {
    "tags": []
   },
   "outputs": [],
   "source": [
    "s3 = boto3.client('s3')"
   ]
  },
  {
   "cell_type": "code",
   "execution_count": 15,
   "id": "e8cd3839-fc8f-465f-ab44-02ef480d5d2d",
   "metadata": {
    "tags": []
   },
   "outputs": [],
   "source": [
    "bucket_name = 'my-bank-app-test'"
   ]
  },
  {
   "cell_type": "code",
   "execution_count": 4,
   "id": "12665f97-f734-405e-b927-f11ccc6aaa79",
   "metadata": {
    "tags": []
   },
   "outputs": [
    {
     "data": {
      "text/plain": [
       "{'ResponseMetadata': {'RequestId': 'BW9FS198SYRPSSYW',\n",
       "  'HostId': 'pxqOL42WhJLSWLLD/5rObSlKT8Pr0F9DkNAu9NDpkkHWahz3m8BNB/qPHtorXwdlYr4wPepAhPU=',\n",
       "  'HTTPStatusCode': 200,\n",
       "  'HTTPHeaders': {'x-amz-id-2': 'pxqOL42WhJLSWLLD/5rObSlKT8Pr0F9DkNAu9NDpkkHWahz3m8BNB/qPHtorXwdlYr4wPepAhPU=',\n",
       "   'x-amz-request-id': 'BW9FS198SYRPSSYW',\n",
       "   'date': 'Tue, 28 Feb 2023 14:26:56 GMT',\n",
       "   'location': '/my-bank-app-test',\n",
       "   'server': 'AmazonS3',\n",
       "   'content-length': '0'},\n",
       "  'RetryAttempts': 0},\n",
       " 'Location': '/my-bank-app-test'}"
      ]
     },
     "execution_count": 4,
     "metadata": {},
     "output_type": "execute_result"
    }
   ],
   "source": [
    "s3.create_bucket(Bucket = 'my-bank-app-test')"
   ]
  },
  {
   "cell_type": "code",
   "execution_count": 7,
   "id": "89da5c12-a029-4fea-98c0-e62fedf6e3b8",
   "metadata": {
    "tags": []
   },
   "outputs": [
    {
     "data": {
      "text/plain": [
       "('bank_clean.csv', <http.client.HTTPMessage at 0x7f29a1a38ca0>)"
      ]
     },
     "execution_count": 7,
     "metadata": {},
     "output_type": "execute_result"
    }
   ],
   "source": [
    "urllib.request.urlretrieve (\"https://d1.awsstatic.com/tmt/build-train-deploy-machine-learning-model-sagemaker/bank_clean.27f01fbbdf43271788427f3682996ae29ceca05d.csv\", \"bank_clean.csv\")"
   ]
  },
  {
   "cell_type": "code",
   "execution_count": 11,
   "id": "e7e714f0-7380-4083-b96c-fc47c5c45aad",
   "metadata": {
    "tags": []
   },
   "outputs": [
    {
     "name": "stdout",
     "output_type": "stream",
     "text": [
      "(28831, 62) (12357, 62)\n"
     ]
    }
   ],
   "source": [
    "# train test split\n",
    "import numpy as np\n",
    "model_data = pd.read_csv('bank_clean.csv')\n",
    "train_data, test_data = np.split(model_data.sample(frac=1, random_state=1729), [int(0.7 * len(model_data))])\n",
    "print(train_data.shape, test_data.shape)"
   ]
  },
  {
   "cell_type": "code",
   "execution_count": 13,
   "id": "091ec684-7188-465e-a19f-906c8b3ad7d2",
   "metadata": {
    "tags": []
   },
   "outputs": [],
   "source": [
    "import os\n",
    "pd.concat([train_data['y_yes'], train_data.drop(['y_no', 'y_yes'], \n",
    "                                                axis=1)], \n",
    "                                                axis=1).to_csv('train.csv', index=False, header=False)\n",
    "\n",
    "\n",
    "\n",
    "pd.concat([test_data['y_yes'], test_data.drop(['y_no', 'y_yes'], axis=1)], axis=1).to_csv('test.csv', index=False, header=False)"
   ]
  },
  {
   "cell_type": "code",
   "execution_count": 20,
   "id": "ca970952-d966-4548-946b-cbeded4a177a",
   "metadata": {
    "tags": []
   },
   "outputs": [
    {
     "data": {
      "text/plain": [
       "'/home/ec2-user/SageMaker/aws-practice'"
      ]
     },
     "execution_count": 20,
     "metadata": {},
     "output_type": "execute_result"
    }
   ],
   "source": [
    "%pwd"
   ]
  },
  {
   "cell_type": "code",
   "execution_count": 23,
   "id": "62154bf0-b344-4b26-bac8-0ba49f1b7193",
   "metadata": {
    "tags": []
   },
   "outputs": [],
   "source": [
    "s3.upload_file('/home/ec2-user/SageMaker/aws-practice/train.csv' ,bucket_name,'train.csv')"
   ]
  },
  {
   "cell_type": "code",
   "execution_count": 24,
   "id": "49563483-0e60-474e-b10a-35c8d75b5238",
   "metadata": {
    "tags": []
   },
   "outputs": [],
   "source": [
    "s3.upload_file('/home/ec2-user/SageMaker/aws-practice/train.csv' ,bucket_name,'test.csv')"
   ]
  },
  {
   "cell_type": "markdown",
   "id": "4cbed242-9bd0-4eec-81c8-4f50b8976ee7",
   "metadata": {},
   "source": [
    "### XG-Boost"
   ]
  },
  {
   "cell_type": "code",
   "execution_count": 26,
   "id": "380295f6-6694-4080-b5b9-4026a33a2340",
   "metadata": {
    "tags": []
   },
   "outputs": [],
   "source": [
    "from sagemaker.xgboost.estimator import XGBoost\n",
    "from sagemaker.inputs import TrainingInput"
   ]
  },
  {
   "cell_type": "code",
   "execution_count": 27,
   "id": "4eabf04a-f2ba-4196-a94a-0e1c9ff14303",
   "metadata": {
    "tags": []
   },
   "outputs": [],
   "source": [
    "# initialize hyperparameters\n",
    "hyperparameters = {\n",
    "        \"max_depth\":\"5\",\n",
    "        \"eta\":\"0.2\",\n",
    "        \"gamma\":\"4\",\n",
    "        \"min_child_weight\":\"6\",\n",
    "        \"subsample\":\"0.7\",\n",
    "        \"verbosity\":\"1\",\n",
    "        \"objective\":\"reg:squarederror\",\n",
    "        \"num_round\":\"50\"}"
   ]
  },
  {
   "cell_type": "code",
   "execution_count": 31,
   "id": "6b23a37d-31b2-4764-9dc2-8dcc3b839823",
   "metadata": {
    "tags": []
   },
   "outputs": [],
   "source": [
    "# set an output path where the trained model will be saved\n",
    "# bucket = sagemaker.Session().default_bucket()\n",
    "prefix = 'DEMO-xgboost-as-a-framework'\n",
    "output_path = 's3://{}/{}/{}/output'.format(s3, prefix, 'abalone-xgb-framework')\n"
   ]
  },
  {
   "cell_type": "code",
   "execution_count": 59,
   "id": "5bcfd276-a676-4254-bf3f-df8e37e2201a",
   "metadata": {
    "tags": []
   },
   "outputs": [
    {
     "name": "stderr",
     "output_type": "stream",
     "text": [
      "INFO:sagemaker.image_uris:Ignoring unnecessary instance type: None.\n"
     ]
    }
   ],
   "source": [
    "# construct a SageMaker estimator that calls the xgboost-container\n",
    "xgboost_container = sagemaker.image_uris.retrieve(\"xgboost\",region = 'us-east-1',version = '1.5-1')\n",
    "\n",
    "# construct a SageMaker estimator that calls the xgboost-container\n",
    "estimator = sagemaker.estimator.Estimator(image_uri=xgboost_container, \n",
    "                                          hyperparameters=hyperparameters,\n",
    "                                          role=sagemaker.get_execution_role(),\n",
    "                                          instance_count=1, \n",
    "                                          instance_type='ml.m5.2xlarge', \n",
    "                                          volume_size=5, # 5 GB \n",
    "                                          output_path=output_path)\n"
   ]
  },
  {
   "cell_type": "code",
   "execution_count": 60,
   "id": "b014b6f4-2b6c-4570-85ad-9bc2298effb3",
   "metadata": {
    "tags": []
   },
   "outputs": [],
   "source": [
    "# define the data type and paths to the training and validation datasets\n",
    "content_type = \"csv\"\n",
    "train_input = TrainingInput('s3://my-bank-app-test/train.csv', content_type=content_type)\n",
    "validation_input = TrainingInput('s3://my-bank-app-test/test.csv', content_type=content_type)"
   ]
  },
  {
   "cell_type": "code",
   "execution_count": null,
   "id": "862dd69c-f7b9-48f9-a40a-ed22d0166232",
   "metadata": {
    "tags": []
   },
   "outputs": [
    {
     "name": "stderr",
     "output_type": "stream",
     "text": [
      "INFO:sagemaker:Creating training-job with name: sagemaker-xgboost-2023-02-28-16-26-35-799\n"
     ]
    },
    {
     "name": "stdout",
     "output_type": "stream",
     "text": [
      "2023-02-28 16:26:35 Starting - Starting the training job...\n",
      "2023-02-28 16:26:51 Starting - Preparing the instances for training......\n",
      "2023-02-28 16:27:41 Downloading - Downloading input data...\n",
      "2023-02-28 16:28:32 Training - Training image download completed. Training in progress.."
     ]
    }
   ],
   "source": [
    "\n",
    "# execute the XGBoost training job\n",
    "estimator.fit({'train': train_input, 'validation': validation_input})"
   ]
  }
 ],
 "metadata": {
  "kernelspec": {
   "display_name": "conda_python3",
   "language": "python",
   "name": "conda_python3"
  },
  "language_info": {
   "codemirror_mode": {
    "name": "ipython",
    "version": 3
   },
   "file_extension": ".py",
   "mimetype": "text/x-python",
   "name": "python",
   "nbconvert_exporter": "python",
   "pygments_lexer": "ipython3",
   "version": "3.10.8"
  }
 },
 "nbformat": 4,
 "nbformat_minor": 5
}
